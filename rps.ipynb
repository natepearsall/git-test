{
  "nbformat": 4,
  "nbformat_minor": 0,
  "metadata": {
    "colab": {
      "provenance": [],
      "authorship_tag": "ABX9TyNucMckkycbgdRSqIaChtmA",
      "include_colab_link": true
    },
    "kernelspec": {
      "name": "python3",
      "display_name": "Python 3"
    },
    "language_info": {
      "name": "python"
    }
  },
  "cells": [
    {
      "cell_type": "markdown",
      "metadata": {
        "id": "view-in-github",
        "colab_type": "text"
      },
      "source": [
        "<a href=\"https://colab.research.google.com/github/natepearsall/git-test/blob/main/rps.ipynb\" target=\"_parent\"><img src=\"https://colab.research.google.com/assets/colab-badge.svg\" alt=\"Open In Colab\"/></a>"
      ]
    },
    {
      "cell_type": "code",
      "execution_count": 3,
      "metadata": {
        "colab": {
          "base_uri": "https://localhost:8080/"
        },
        "id": "Nh-Ypad-dlVt",
        "outputId": "6caa8168-3cbc-4468-9ac3-d464fca76ba4"
      },
      "outputs": [
        {
          "output_type": "stream",
          "name": "stdout",
          "text": [
            "rock, paper, scissors?paper\n",
            "Computer guessed scissors. Computer wins :(\n"
          ]
        }
      ],
      "source": [
        "from random import randint\n",
        "t = [\"rock\",\"paper\",\"scissors\"]\n",
        "\n",
        "computer = t[randint(0,2)]\n",
        "player = input(\"rock, paper, scissors?\")\n",
        "if player == computer:\n",
        "  print(f\"Computer guessed {computer}. we have a tie!\")\n",
        "elif player == \"rock\":\n",
        "  if computer == \"scissors\":\n",
        "    print(f\"Computer guessed {computer}. You have won :)\")\n",
        "  else:\n",
        "    print(f\"Computer guessed {computer}. Computer wins :(\")\n",
        "\n",
        "elif player == \"scissors\":\n",
        "  if computer == \"paper\":\n",
        "    print(f\"Computer guessed {computer}. You have won :)\")\n",
        "  else:\n",
        "    print(f\"Computer guessed {computer}. Computer wins :(\")\n",
        "\n",
        "elif player == \"paper\":\n",
        "  if computer == \"rock\":\n",
        "    print(f\"Computer guessed {computer}. You have won :)\")\n",
        "  else:\n",
        "    print(f\"Computer guessed {computer}. Computer wins :(\")\n",
        "else:\n",
        "  print(\"Something went wrong\")\n"
      ]
    }
  ]
}