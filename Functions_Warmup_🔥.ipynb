{
  "nbformat": 4,
  "nbformat_minor": 0,
  "metadata": {
    "colab": {
      "provenance": [],
      "authorship_tag": "ABX9TyMzNK/59tixGtor3BmLTvvP",
      "include_colab_link": true
    },
    "kernelspec": {
      "name": "python3",
      "display_name": "Python 3"
    },
    "language_info": {
      "name": "python"
    }
  },
  "cells": [
    {
      "cell_type": "markdown",
      "metadata": {
        "id": "view-in-github",
        "colab_type": "text"
      },
      "source": [
        "<a href=\"https://colab.research.google.com/github/natepearsall/git-test/blob/main/Functions_Warmup_%F0%9F%94%A5.ipynb\" target=\"_parent\"><img src=\"https://colab.research.google.com/assets/colab-badge.svg\" alt=\"Open In Colab\"/></a>"
      ]
    },
    {
      "cell_type": "code",
      "execution_count": 6,
      "metadata": {
        "colab": {
          "base_uri": "https://localhost:8080/"
        },
        "id": "ahkpqdVWGPP4",
        "outputId": "ba69ac7b-f4f2-40ea-af43-ac35830c9bfb"
      },
      "outputs": [
        {
          "output_type": "stream",
          "name": "stdout",
          "text": [
            "12 is even\n",
            "13 is odd\n",
            "14 is even\n",
            "15 is odd\n",
            "16 is even\n",
            "17 is odd\n",
            "18 is even\n",
            "19 is odd\n",
            "20 is even\n",
            "21 is odd\n",
            "22 is even\n",
            "23 is odd\n",
            "24 is even\n",
            "25 is odd\n",
            "26 is even\n",
            "27 is odd\n",
            "28 is even\n",
            "29 is odd\n",
            "30 is even\n",
            "31 is odd\n",
            "32 is even\n",
            "33 is odd\n",
            "34 is even\n",
            "35 is odd\n",
            "36 is even\n",
            "37 is odd\n",
            "38 is even\n",
            "39 is odd\n"
          ]
        }
      ],
      "source": [
        "def do_something(low, high):\n",
        "  for c in range(low,high):\n",
        "    if c % 2 == 0:\n",
        "      print(c, 'is even')\n",
        "    else:\n",
        "      print(c, 'is odd')\n",
        "\n",
        "# do_something(1,15)\n",
        "low = 12\n",
        "high = 40\n",
        "do_something(low,high)"
      ]
    }
  ]
}