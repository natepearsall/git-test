{
  "nbformat": 4,
  "nbformat_minor": 0,
  "metadata": {
    "colab": {
      "provenance": [],
      "include_colab_link": true
    },
    "kernelspec": {
      "name": "python3",
      "display_name": "Python 3"
    },
    "language_info": {
      "name": "python"
    }
  },
  "cells": [
    {
      "cell_type": "markdown",
      "metadata": {
        "id": "view-in-github",
        "colab_type": "text"
      },
      "source": [
        "<a href=\"https://colab.research.google.com/github/natepearsall/git-test/blob/main/homework/week-9.ipynb\" target=\"_parent\"><img src=\"https://colab.research.google.com/assets/colab-badge.svg\" alt=\"Open In Colab\"/></a>"
      ]
    },
    {
      "cell_type": "markdown",
      "source": [
        "# Homework - Week 9\n",
        "\n",
        "Complete the following blocks as specified in the directions. Run each cell to return the desired output. Save your notebook back to your GitHub repository and submit the GitHub URL to your notebook for review."
      ],
      "metadata": {
        "id": "phbaQTT5gy8A"
      }
    },
    {
      "cell_type": "markdown",
      "source": [
        "## Functions\n",
        "\n",
        "In the cell below define a function that takes one parameter (in the form of a list) called `names` and returns a simple greeting for each name, such as\n",
        "\n",
        "    \"Hello Natasha, it's so nice to meet you\"\n",
        "    \"Hello Sid, it's so nice to meet you\"\n",
        "\n",
        "Define the function and run it, and in another cell below call the function populated with a var of a list of names."
      ],
      "metadata": {
        "id": "38Pg39pMrDua"
      }
    },
    {
      "cell_type": "code",
      "source": [
        "#\n",
        "def greet_people(names):\n",
        "    greetings = []\n",
        "    for name in names:\n",
        "        greeting = (\"hello \"+ name + \", its so nice to meet you\")\n",
        "        greetings.append(greeting)\n",
        "    return greetings\n"
      ],
      "metadata": {
        "id": "kdFLCHtOg53p"
      },
      "execution_count": 7,
      "outputs": []
    },
    {
      "cell_type": "code",
      "source": [
        "#\n",
        "name_list = [\"Natasha\", \"Sid\", \"John\"]\n",
        "greetings_list = greet_people(name_list)\n",
        "\n",
        "for greeting in greetings_list:\n",
        "    print(greeting)\n"
      ],
      "metadata": {
        "id": "JlNPe_XUsmog",
        "outputId": "5128424b-7859-4206-9618-828e7ba0db42",
        "colab": {
          "base_uri": "https://localhost:8080/"
        }
      },
      "execution_count": 8,
      "outputs": [
        {
          "output_type": "stream",
          "name": "stdout",
          "text": [
            "helloNatasha, its so nice to meet you\n",
            "helloSid, its so nice to meet you\n",
            "helloJohn, its so nice to meet you\n"
          ]
        }
      ]
    },
    {
      "cell_type": "markdown",
      "source": [
        "Using the following list, pass it into a function you define that will evaluate the list and return a count of how many items is in it. Be creative.\n",
        "\n",
        "```\n",
        "mylist = [\"Toronto\",\"Buffalo\",\"Syracuse\",\"Albany\",\"Schenectady\",\"Brooklyn\",\"Rome\",\"Ithaca\"]\n",
        "```"
      ],
      "metadata": {
        "id": "mXqNACpkrdUZ"
      }
    },
    {
      "cell_type": "code",
      "source": [
        "mylist = [\"Toronto\",\"Buffalo\",\"Syracuse\",\"Albany\",\"Schenectady\",\"Brooklyn\",\"Rome\",\"Ithaca\"]\n",
        "def evaluate_list(mylist):\n",
        "  list_count = len(mylist)\n",
        "  if list_count == 0:\n",
        "    print(\"this list is empty\")\n",
        "  else:\n",
        "    print(\"this list has a count of \" + list_count)\n",
        "  return list_count"
      ],
      "metadata": {
        "id": "mvxOzRSisg0a"
      },
      "execution_count": 12,
      "outputs": []
    },
    {
      "cell_type": "markdown",
      "source": [
        "## Input Validation\n",
        "\n",
        "Write a function below that defines two input parameters as `bool` and returns a `bool`.\n",
        "In the cell below that, populate two variables with two different bools (True and False)\n",
        "and pass them into a call of your function."
      ],
      "metadata": {
        "id": "YU7FXSCXsFab"
      }
    },
    {
      "cell_type": "code",
      "source": [
        "#\n",
        "def boolean_logic_operation(bool1, bool2):\n",
        "    result = bool1 and bool2\n",
        "    return result\n",
        "bool_var1 = True\n",
        "bool_var2 = False\n",
        "\n",
        "result_of_operation = boolean_logic_operation(bool_var1, bool_var2)\n",
        "\n"
      ],
      "metadata": {
        "id": "DGMJZjlysfHU"
      },
      "execution_count": 14,
      "outputs": []
    },
    {
      "cell_type": "markdown",
      "source": [
        "## Global Variables\n",
        "\n",
        "Define a global variable and populate it with a data type (int, str, bool, float, etc.)"
      ],
      "metadata": {
        "id": "xXZTr5fdsd5M"
      }
    },
    {
      "cell_type": "code",
      "source": [
        "#\n",
        "global_var = 42"
      ],
      "metadata": {
        "id": "HN8CFLVRs6_L"
      },
      "execution_count": 16,
      "outputs": []
    },
    {
      "cell_type": "markdown",
      "source": [
        "Now create a function that prints out the global variable. Call the function and display the value of the var."
      ],
      "metadata": {
        "id": "G1Auc6l1s8F6"
      }
    },
    {
      "cell_type": "code",
      "source": [
        "#\n",
        "def printin_out():\n",
        "  print(global_var)\n",
        "printin_out()"
      ],
      "metadata": {
        "id": "Q6O0Ep_wtBWJ",
        "outputId": "0cd1a670-2d70-4d2a-9260-86f4988d4e0a",
        "colab": {
          "base_uri": "https://localhost:8080/"
        }
      },
      "execution_count": 17,
      "outputs": [
        {
          "output_type": "stream",
          "name": "stdout",
          "text": [
            "42\n"
          ]
        }
      ]
    },
    {
      "cell_type": "markdown",
      "source": [
        "Now create a function that creates its own global var and populates it.\n",
        "Call the function and then print out the global var from outside of the function."
      ],
      "metadata": {
        "id": "IN2TRQI8tCC4"
      }
    },
    {
      "cell_type": "code",
      "source": [
        "#\n",
        "def create_glob_var():\n",
        "  global global_var1\n",
        "  global_var1 = \"this is a global variable\"\n",
        ""
      ],
      "metadata": {
        "id": "Oz4rnmfTtKen"
      },
      "execution_count": 18,
      "outputs": []
    },
    {
      "cell_type": "markdown",
      "source": [
        "Finally, write a function that updates the value of the global var you defined 3 cells above.\n",
        "\n",
        "1. Within the function, print out the global var you defined 3 cells above.\n",
        "2. Update the global var to have a new value.\n",
        "3. Within the function, print the new value of the global var.\n",
        "\n",
        "Call the function and once more print out the value of the global var from outside of the function."
      ],
      "metadata": {
        "id": "jv0dtym0tLZn"
      }
    },
    {
      "cell_type": "code",
      "source": [
        "#\n",
        "def create_and_populate_global_var():\n",
        "    global global_var\n",
        "    global_var = \"This is a global variable.\"\n",
        "\n",
        "def update_global_var():\n",
        "    global global_var\n",
        "    print(\"Current value of global_var within the function:\"+ global_var)\n",
        "    global_var = \"Updated value of the global variable.\"\n",
        "\n",
        "    print(\"New value of global_var within the function:\"+ global_var)\n",
        "create_and_populate_global_var()\n",
        "update_global_var()\n",
        "\n",
        "print(\"Value of global_var from outside the function:\"+ global_var)\n"
      ],
      "metadata": {
        "id": "pnX-hfKouLcG",
        "outputId": "5362672c-765e-4e1a-fe85-5a08545a91a2",
        "colab": {
          "base_uri": "https://localhost:8080/"
        }
      },
      "execution_count": 19,
      "outputs": [
        {
          "output_type": "stream",
          "name": "stdout",
          "text": [
            "Current value of global_var within the function:This is a global variable.\n",
            "New value of global_var within the function:Updated value of the global variable.\n",
            "Value of global_var from outside the function:Updated value of the global variable.\n"
          ]
        }
      ]
    }
  ]
}