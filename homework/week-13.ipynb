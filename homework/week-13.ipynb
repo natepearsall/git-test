{
  "nbformat": 4,
  "nbformat_minor": 0,
  "metadata": {
    "colab": {
      "provenance": [],
      "include_colab_link": true
    },
    "kernelspec": {
      "name": "ir",
      "display_name": "R"
    },
    "language_info": {
      "name": "R"
    }
  },
  "cells": [
    {
      "cell_type": "markdown",
      "metadata": {
        "id": "view-in-github",
        "colab_type": "text"
      },
      "source": [
        "<a href=\"https://colab.research.google.com/github/natepearsall/git-test/blob/main/homework/week-13.ipynb\" target=\"_parent\"><img src=\"https://colab.research.google.com/assets/colab-badge.svg\" alt=\"Open In Colab\"/></a>"
      ]
    },
    {
      "cell_type": "markdown",
      "source": [
        "# Homework - Week 13\n",
        "\n",
        "Complete the following blocks as specified in the directions. Run each cell to return the desired output. Save your notebook back to your GitHub repository and submit the GitHub URL to your notebook for review."
      ],
      "metadata": {
        "id": "sZruw3XQogej"
      }
    },
    {
      "cell_type": "markdown",
      "source": [
        "## 1. Change Runtime to R (1 pt)\n",
        "\n",
        "Change the runtime of this notebook to R. You can verify that you are running R by displaying the current version you are running. Run the cell below and show the output."
      ],
      "metadata": {
        "id": "KmpG99aAokL9"
      }
    },
    {
      "cell_type": "code",
      "execution_count": 1,
      "metadata": {
        "id": "k03Z1NKAoZrW",
        "outputId": "1e9e444e-0f86-4811-96c3-c514b33f560c",
        "colab": {
          "base_uri": "https://localhost:8080/",
          "height": 285
        }
      },
      "outputs": [
        {
          "output_type": "display_data",
          "data": {
            "text/plain": [
              "               _                           \n",
              "platform       x86_64-pc-linux-gnu         \n",
              "arch           x86_64                      \n",
              "os             linux-gnu                   \n",
              "system         x86_64, linux-gnu           \n",
              "status                                     \n",
              "major          4                           \n",
              "minor          3.2                         \n",
              "year           2023                        \n",
              "month          10                          \n",
              "day            31                          \n",
              "svn rev        85441                       \n",
              "language       R                           \n",
              "version.string R version 4.3.2 (2023-10-31)\n",
              "nickname       Eye Holes                   "
            ]
          },
          "metadata": {}
        }
      ],
      "source": [
        "version"
      ]
    },
    {
      "cell_type": "markdown",
      "source": [
        "## 2. Create Vectors (2 pts)\n",
        "\n",
        "Create two vectors in the cells below, according to the prompts given."
      ],
      "metadata": {
        "id": "lkaofBQypx1X"
      }
    },
    {
      "cell_type": "code",
      "source": [
        "# create a vector with 7 integer values. Assign it to a variable named \"my_integers\"\n",
        "my_integers <- c(1, 2, 3, 4, 5, 6, 7)"
      ],
      "metadata": {
        "id": "1fjq5bkEp6Zv"
      },
      "execution_count": 7,
      "outputs": []
    },
    {
      "cell_type": "code",
      "source": [
        "var1 = 8\n",
        "var2 = 4\n",
        "var3 = 12\n",
        "var4 = 25\n",
        "\n",
        "calculation1 <- var2 / var1\n",
        "calculation2 <- var2^3 * var3\n",
        "calculation3 <- as.integer(var4 / var3)\n",
        "\n",
        "my_calculated_values <- c(calculation1, calculation2, calculation3)\n",
        "\n",
        "# Using the variables given above, assign three new variables the following calculated values:\n",
        "#\n",
        "# 1. Your first variable should be assigned the calculated value of var2 divided by var1.\n",
        "# 2. Your second variable should be assigned the calculated value of var2 cubed times var3.\n",
        "# 3. Your third variable should be assigned the calculated value of var4 integer divided by var3.\n",
        "#\n",
        "# Next, create an array populated by your three variables. Assign the array to a new variable named \"my_calculated_values\""
      ],
      "metadata": {
        "id": "f3IFD-T6p6Rd"
      },
      "execution_count": 8,
      "outputs": []
    },
    {
      "cell_type": "markdown",
      "source": [
        "## 3. Vector Indexes (3 pts)"
      ],
      "metadata": {
        "id": "F6Rx0GIGrpOB"
      }
    },
    {
      "cell_type": "markdown",
      "source": [
        "In the cell below, create a vector that starts with the integer 4, that increments by counts of 3 all the way to 28.\n",
        "\n",
        "Assign the vector to a variable name."
      ],
      "metadata": {
        "id": "IDLyOjOJsFCX"
      }
    },
    {
      "cell_type": "code",
      "source": [
        "my_vector <- seq(from = 4, to = 28, by = 3)\n"
      ],
      "metadata": {
        "id": "0D5Ia-BPsoPZ"
      },
      "execution_count": 5,
      "outputs": []
    },
    {
      "cell_type": "markdown",
      "source": [
        "Next, show how to display this vector with the 3 index removed."
      ],
      "metadata": {
        "id": "RxFRiRMvtfXI"
      }
    },
    {
      "cell_type": "code",
      "source": [
        "my_vector_without_index3 <- my_vector[-3]\n"
      ],
      "metadata": {
        "id": "MBg7V1LztQlv"
      },
      "execution_count": 6,
      "outputs": []
    },
    {
      "cell_type": "markdown",
      "source": [
        "Finally, show how to delete the 4th, 5th, and 7th indexes from the vector and update the vector so they are forever removed from the vector.\n",
        "\n",
        "Hint: there is a fairly simple way to do this in one line, such that you don't have to run a separate command for each removal."
      ],
      "metadata": {
        "id": "Rmci-rVCtq-C"
      }
    },
    {
      "cell_type": "code",
      "source": [
        "#\n",
        "my_vector <- my_vector[-c(4, 5, 7)]"
      ],
      "metadata": {
        "id": "y1k0NHNruFX2"
      },
      "execution_count": 9,
      "outputs": []
    },
    {
      "cell_type": "markdown",
      "source": [
        "## 4. Create a Data Frame (3 pts)\n",
        "\n",
        "In the cell below create a data frame with 10 observations (rows) and 5 variables (columns) each. This data frame will describe some of your favorite musical performers. You can use real or fictitious data to populate your data frame.\n",
        "\n",
        "Variables:\n",
        "  - `artist` - Artist or band name\n",
        "  - `category` - Rock, Pop, Country, Hip-hop, Jazz, Classical, Soul, Other. (Try to distribute your selections here)\n",
        "  - `size` - (number of members, 1-?)\n",
        "  - `start` - Debut year of artist.\n",
        "  - `grammy` - Grammmy winner? `TRUE` | `FALSE`\n",
        "\n",
        "First create vectors for each variable populated with your own performer data. Then create a data frame from these vectors (be sure to assign column names too) and assign it to a named variable such as `df`."
      ],
      "metadata": {
        "id": "-2ZaFcCCv3o8"
      }
    },
    {
      "cell_type": "code",
      "source": [
        "\n",
        "artist <- c(\"Pink Floyd\", \"ABBA\", \"Lana Del Rey\", \"Eagles\", \"Modern English\",\n",
        "            \"The Smiths\", \"The Cure\", \"Fleetwood Mac\", \"Sublime\", \"Tyler Childers\")\n",
        "\n",
        "category <- c(\"Rock\", \"Pop\", \"Pop\", \"Rock\", \"New Wave\", \"Indie\", \"Alternative\", \"Rock\", \"Ska\", \"Country\")\n",
        "\n",
        "size <- c(4, 4, 1, 4, 4, 4, 4, 4, 3, 1)\n",
        "\n",
        "start <- c(1965, 1972, 2005, 1971, 1979, 1982, 1976, 1967, 1988, 2011)\n",
        "\n",
        "grammy <- c(TRUE, TRUE, FALSE, TRUE, FALSE, FALSE, TRUE, TRUE, FALSE, FALSE)\n",
        "\n",
        "df <- data.frame(artist = artist, category = category, size = size, start = start, grammy = grammy)\n",
        "\n",
        "print(df)\n"
      ],
      "metadata": {
        "id": "V4nBsdVsyauQ",
        "outputId": "728c440b-bbeb-41a4-9a9b-c832f9cdca9b",
        "colab": {
          "base_uri": "https://localhost:8080/"
        }
      },
      "execution_count": 10,
      "outputs": [
        {
          "output_type": "stream",
          "name": "stdout",
          "text": [
            "           artist    category size start grammy\n",
            "1      Pink Floyd        Rock    4  1965   TRUE\n",
            "2            ABBA         Pop    4  1972   TRUE\n",
            "3    Lana Del Rey         Pop    1  2005  FALSE\n",
            "4          Eagles        Rock    4  1971   TRUE\n",
            "5  Modern English    New Wave    4  1979  FALSE\n",
            "6      The Smiths       Indie    4  1982  FALSE\n",
            "7        The Cure Alternative    4  1976   TRUE\n",
            "8   Fleetwood Mac        Rock    4  1967   TRUE\n",
            "9         Sublime         Ska    3  1988  FALSE\n",
            "10 Tyler Childers     Country    1  2011  FALSE\n"
          ]
        }
      ]
    },
    {
      "cell_type": "markdown",
      "source": [
        "## 5. Filter/Query a Data Frame (2 pts)\n",
        "\n",
        "Use the data frame you created above and show how to perform the following queries."
      ],
      "metadata": {
        "id": "nG5m-FIRydNU"
      }
    },
    {
      "cell_type": "code",
      "source": [
        "# Display the first 3 records and only the `artist`, `category` and `grammy` columns for each.\n",
        "selected_columns <- c(\"artist\", \"category\", \"grammy\")\n",
        "first_3_records <- head(df[, selected_columns], 3)\n",
        "\n",
        "print(first_3_records)\n"
      ],
      "metadata": {
        "id": "OlmbfFi6zSgR",
        "outputId": "2b962a0b-5424-420f-f44f-937a68968635",
        "colab": {
          "base_uri": "https://localhost:8080/"
        }
      },
      "execution_count": 11,
      "outputs": [
        {
          "output_type": "stream",
          "name": "stdout",
          "text": [
            "        artist category grammy\n",
            "1   Pink Floyd     Rock   TRUE\n",
            "2         ABBA      Pop   TRUE\n",
            "3 Lana Del Rey      Pop  FALSE\n"
          ]
        }
      ]
    },
    {
      "cell_type": "code",
      "source": [
        "# Display the records for just one musical category, such as only Rock bands or only Hip-hop bands.\n",
        "rock_records <- df[df$category == \"Rock\", ]\n",
        "print(rock_records)"
      ],
      "metadata": {
        "id": "-l_kpWSzzlhG",
        "outputId": "cda75cd7-def5-442d-b7fc-4f12b2fd2d0a",
        "colab": {
          "base_uri": "https://localhost:8080/"
        }
      },
      "execution_count": 13,
      "outputs": [
        {
          "output_type": "stream",
          "name": "stdout",
          "text": [
            "         artist category size start grammy\n",
            "1    Pink Floyd     Rock    4  1965   TRUE\n",
            "4        Eagles     Rock    4  1971   TRUE\n",
            "8 Fleetwood Mac     Rock    4  1967   TRUE\n"
          ]
        }
      ]
    },
    {
      "cell_type": "markdown",
      "source": [
        "## Query a Data Frame using `tidyverse` (4 pts)\n",
        "\n",
        "1. Show how to load the library.\n",
        "2. Show how to glimpse basic features of the `starwars` data table.\n",
        "3. Create a query using tidyverse that retrieves the following data:\n",
        "    - Selects only these columns: `name`, `height`, `sex`, `species`.\n",
        "    - Filters for all species that are NOT Human.\n",
        "    - Arranges the resulting data in order by name.\n",
        "\n",
        "Show your output in a data frame."
      ],
      "metadata": {
        "id": "L-xnszjS0Byy"
      }
    },
    {
      "cell_type": "code",
      "source": [
        "#\n",
        "\n",
        "install.packages(\"tidyverse\")\n",
        "library(tidyverse)\n",
        "\n",
        "data(\"starwars\")\n",
        "\n",
        "\n",
        "result <- starwars %>%\n",
        "  select(name, height, sex, species) %>%\n",
        "  filter(species != \"Human\") %>%\n",
        "  arrange(name)\n",
        "\n",
        "print(result)"
      ],
      "metadata": {
        "id": "yTMLzrxS0F4u",
        "outputId": "7197abf6-48c1-48d9-b0fc-8d8fa9d89b19",
        "colab": {
          "base_uri": "https://localhost:8080/"
        }
      },
      "execution_count": 15,
      "outputs": [
        {
          "output_type": "stream",
          "name": "stderr",
          "text": [
            "Installing package into ‘/usr/local/lib/R/site-library’\n",
            "(as ‘lib’ is unspecified)\n",
            "\n"
          ]
        },
        {
          "output_type": "stream",
          "name": "stdout",
          "text": [
            "\u001b[90m# A tibble: 48 × 4\u001b[39m\n",
            "   name           height sex    species     \n",
            "   \u001b[3m\u001b[90m<chr>\u001b[39m\u001b[23m           \u001b[3m\u001b[90m<int>\u001b[39m\u001b[23m \u001b[3m\u001b[90m<chr>\u001b[39m\u001b[23m  \u001b[3m\u001b[90m<chr>\u001b[39m\u001b[23m       \n",
            "\u001b[90m 1\u001b[39m Ackbar            180 male   Mon Calamari\n",
            "\u001b[90m 2\u001b[39m Adi Gallia        184 female Tholothian  \n",
            "\u001b[90m 3\u001b[39m Ayla Secura       178 female Twi'lek     \n",
            "\u001b[90m 4\u001b[39m BB8                \u001b[31mNA\u001b[39m none   Droid       \n",
            "\u001b[90m 5\u001b[39m Barriss Offee     166 female Mirialan    \n",
            "\u001b[90m 6\u001b[39m Ben Quadinaros    163 male   Toong       \n",
            "\u001b[90m 7\u001b[39m Bib Fortuna       180 male   Twi'lek     \n",
            "\u001b[90m 8\u001b[39m Bossk             190 male   Trandoshan  \n",
            "\u001b[90m 9\u001b[39m C-3PO             167 none   Droid       \n",
            "\u001b[90m10\u001b[39m Chewbacca         228 male   Wookiee     \n",
            "\u001b[90m# ℹ 38 more rows\u001b[39m\n"
          ]
        }
      ]
    }
  ]
}