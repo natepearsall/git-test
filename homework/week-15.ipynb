{
  "nbformat": 4,
  "nbformat_minor": 0,
  "metadata": {
    "colab": {
      "provenance": [],
      "include_colab_link": true
    },
    "kernelspec": {
      "name": "ir",
      "display_name": "R"
    },
    "language_info": {
      "name": "R"
    }
  },
  "cells": [
    {
      "cell_type": "markdown",
      "metadata": {
        "id": "view-in-github",
        "colab_type": "text"
      },
      "source": [
        "<a href=\"https://colab.research.google.com/github/natepearsall/git-test/blob/main/homework/week-15.ipynb\" target=\"_parent\"><img src=\"https://colab.research.google.com/assets/colab-badge.svg\" alt=\"Open In Colab\"/></a>"
      ]
    },
    {
      "cell_type": "markdown",
      "source": [
        "# Homework - Week 15\n",
        "\n",
        "Complete the following blocks as specified in the directions. Run each cell to return the desired output. Save your notebook back to your GitHub repository and submit the GitHub URL to your notebook for review."
      ],
      "metadata": {
        "id": "sZruw3XQogej"
      }
    },
    {
      "cell_type": "markdown",
      "source": [
        "## 1. Create Functions (4 pts)\n",
        "\n",
        "Create two functions in the cells below, according to the prompts given."
      ],
      "metadata": {
        "id": "lkaofBQypx1X"
      }
    },
    {
      "cell_type": "code",
      "source": [
        "# create a function in R that:\n",
        "#   1. takes a single integer as an input parameter\n",
        "#   2. determines whether the integer is even or odd\n",
        "#   3. returns a character statement \"The integer <x> is even\" or \"The integer <x> is odd\" (replace <x> with the actual input provided)\n",
        "#\n",
        "# then execute the function twice using two different input values, displaying even and odd results.\n",
        "\n",
        "check_even_odd <- function(x) {\n",
        "  if (x %% 2 == 0) {\n",
        "    return(paste(\"The integer\", x, \"is even\"))\n",
        "  } else {\n",
        "    return(paste(\"The integer\", x, \"is odd\"))\n",
        "  }\n",
        "}\n",
        "result1 <- check_even_odd(4)\n",
        "result2 <- check_even_odd(7)\n",
        "cat(result1, \"\\n\")\n",
        "cat(result2, \"\\n\")\n"
      ],
      "metadata": {
        "id": "1fjq5bkEp6Zv",
        "outputId": "f600505c-2b90-4229-c5cd-fd8d1b29038c",
        "colab": {
          "base_uri": "https://localhost:8080/"
        }
      },
      "execution_count": 1,
      "outputs": [
        {
          "output_type": "stream",
          "name": "stdout",
          "text": [
            "The integer 4 is even \n",
            "The integer 7 is odd \n"
          ]
        }
      ]
    },
    {
      "cell_type": "code",
      "source": [
        "# create a function in R that:\n",
        "#   1. takes 4 integer input parameters\n",
        "#   2. returns the mean value of the inputs\n",
        "#   3. has default values for the 4 input parameters, in case they are not provided when the function is called.\n",
        "#\n",
        "# then execute the function twice: once where you provide the input values, and once where you do not.\n",
        "\n",
        "calculate_mean <- function(a = 0, b = 0, c = 0, d = 0) {\n",
        "  mean_value <- mean(c(a, b, c, d))\n",
        "  return(mean_value)\n",
        "}\n",
        "\n",
        "result_with_values <- calculate_mean(10, 15, 20, 25)\n",
        "cat(\"Mean with values:\", result_with_values, \"\\n\")\n",
        "\n",
        "result_without_values <- calculate_mean()\n",
        "cat(\"Mean without values:\", result_without_values, \"\\n\")\n"
      ],
      "metadata": {
        "id": "f3IFD-T6p6Rd",
        "outputId": "60ce2150-17b3-4180-ddb8-e60d3a2b8106",
        "colab": {
          "base_uri": "https://localhost:8080/"
        }
      },
      "execution_count": 2,
      "outputs": [
        {
          "output_type": "stream",
          "name": "stdout",
          "text": [
            "Mean with values: 17.5 \n",
            "Mean without values: 0 \n"
          ]
        }
      ]
    },
    {
      "cell_type": "markdown",
      "source": [
        "## 2. Plot Data (4 pts)"
      ],
      "metadata": {
        "id": "F6Rx0GIGrpOB"
      }
    },
    {
      "cell_type": "markdown",
      "source": [
        "In the cell below, write the code required to plot from the `msleep` sample data set.\n",
        "\n",
        "1. Display only animals with body weights of 30 or greater.\n",
        "2. Group the animals by `order`.\n",
        "3. Display the mean `sleep_total` for each group in a bar plot."
      ],
      "metadata": {
        "id": "IDLyOjOJsFCX"
      }
    },
    {
      "cell_type": "code",
      "source": [
        "\n",
        "library(ggplot2)\n",
        "\n",
        "data(msleep, package = \"ggplot2\")\n",
        "\n",
        "filtered_data <- msleep[msleep$bodywt >= 30, ]\n",
        "\n",
        "grouped_data <- aggregate(sleep_total ~ order, data = filtered_data, mean)\n",
        "\n",
        "ggplot(grouped_data, aes(x = order, y = sleep_total)) +\n",
        "  geom_bar(stat = \"identity\", fill = \"skyblue\", color = \"black\") +\n",
        "  labs(title = \"Mean Sleep Total by Order\",\n",
        "       x = \"Order\",\n",
        "       y = \"Mean Sleep Total\") +\n",
        "  theme_minimal()\n"
      ],
      "metadata": {
        "id": "0D5Ia-BPsoPZ",
        "outputId": "d742d264-c430-4acc-8e56-4f57bfcd4cb9",
        "colab": {
          "base_uri": "https://localhost:8080/",
          "height": 437
        }
      },
      "execution_count": 3,
      "outputs": [
        {
          "output_type": "display_data",
          "data": {
            "text/plain": [
              "plot without title"
            ],
            "image/png": "[encoded data removed]"
          },
          "metadata": {
            "image/png": {
              "width": 420,
              "height": 420
            }
          }
        }
      ]
    },
    {
      "cell_type": "markdown",
      "source": [
        "## 3. Clean and Analyze Data Using R (4 pts)\n",
        "\n",
        "In the cells below use R to perform the following data cleaning steps on this file:\n",
        "https://raw.githubusercontent.com/nmagee/ds1002/main/data/social-media-users.csv\n",
        "\n",
        "1. Remove any duplicate rows.\n",
        "2. Remove any records where `last_login` or `birthdate` are empty.\n",
        "3. Display only the records with the 10 highest `follower` counts.\n",
        "4. Determine counts of users when grouped by continent."
      ],
      "metadata": {
        "id": "-2ZaFcCCv3o8"
      }
    },
    {
      "cell_type": "code",
      "source": [
        "#\n",
        "install.packages(c(\"dplyr\", \"readr\"))\n",
        "library(dplyr)\n",
        "library(readr)\n",
        "url <- \"https://raw.githubusercontent.com/nmagee/ds1002/main/data/social-media-users.csv\"\n",
        "social_media_data <- read_csv(url)\n",
        "social_media_data <- distinct(social_media_data)"
      ],
      "metadata": {
        "id": "V4nBsdVsyauQ",
        "outputId": "cb7d0bdf-94c7-4eb2-daef-eed31935701b",
        "colab": {
          "base_uri": "https://localhost:8080/"
        }
      },
      "execution_count": 6,
      "outputs": [
        {
          "output_type": "stream",
          "name": "stderr",
          "text": [
            "Installing packages into ‘/usr/local/lib/R/site-library’\n",
            "(as ‘lib’ is unspecified)\n",
            "\n",
            "\n",
            "Attaching package: ‘dplyr’\n",
            "\n",
            "\n",
            "The following objects are masked from ‘package:stats’:\n",
            "\n",
            "    filter, lag\n",
            "\n",
            "\n",
            "The following objects are masked from ‘package:base’:\n",
            "\n",
            "    intersect, setdiff, setequal, union\n",
            "\n",
            "\n",
            "\u001b[1mRows: \u001b[22m\u001b[34m1318\u001b[39m \u001b[1mColumns: \u001b[22m\u001b[34m8\u001b[39m\n",
            "\u001b[36m──\u001b[39m \u001b[1mColumn specification\u001b[22m \u001b[36m────────────────────────────────────────────────────────\u001b[39m\n",
            "\u001b[1mDelimiter:\u001b[22m \",\"\n",
            "\u001b[31mchr\u001b[39m (7): username, full_name, birthdate, email, continent, last_login, inter...\n",
            "\u001b[32mdbl\u001b[39m (1): followers\n",
            "\n",
            "\u001b[36mℹ\u001b[39m Use `spec()` to retrieve the full column specification for this data.\n",
            "\u001b[36mℹ\u001b[39m Specify the column types or set `show_col_types = FALSE` to quiet this message.\n"
          ]
        }
      ]
    },
    {
      "cell_type": "code",
      "source": [
        "#\n",
        "social_media_data <- social_media_data %>%\n",
        "  filter(!is.na(last_login) & !is.na(birthdate))"
      ],
      "metadata": {
        "id": "LwXD1sNulIT3"
      },
      "execution_count": 7,
      "outputs": []
    },
    {
      "cell_type": "code",
      "source": [
        "#\n",
        "top_10_followers <- social_media_data %>%\n",
        "  arrange(desc(followers)) %>%\n",
        "  head(10)\n",
        "print(top_10_followers)"
      ],
      "metadata": {
        "id": "7qa100btlI4Z",
        "outputId": "9a7451e8-09c4-4f61-d9a9-6ea763decf4d",
        "colab": {
          "base_uri": "https://localhost:8080/"
        }
      },
      "execution_count": 10,
      "outputs": [
        {
          "output_type": "stream",
          "name": "stdout",
          "text": [
            "\u001b[90m# A tibble: 10 × 8\u001b[39m\n",
            "   username   full_name birthdate email continent followers last_login interests\n",
            "   \u001b[3m\u001b[90m<chr>\u001b[39m\u001b[23m      \u001b[3m\u001b[90m<chr>\u001b[39m\u001b[23m     \u001b[3m\u001b[90m<chr>\u001b[39m\u001b[23m     \u001b[3m\u001b[90m<chr>\u001b[39m\u001b[23m \u001b[3m\u001b[90m<chr>\u001b[39m\u001b[23m         \u001b[3m\u001b[90m<dbl>\u001b[39m\u001b[23m \u001b[3m\u001b[90m<chr>\u001b[39m\u001b[23m      \u001b[3m\u001b[90m<chr>\u001b[39m\u001b[23m    \n",
            "\u001b[90m 1\u001b[39m lleckeyb6  Lynne Le… 4/19/1998 llec… SA            \u001b[4m9\u001b[24m\u001b[4m9\u001b[24m977 3/14/2021  sports   \n",
            "\u001b[90m 2\u001b[39m spharoaha2 Staci Ph… 9/2/1985  spha… \u001b[31mNA\u001b[39m            \u001b[4m9\u001b[24m\u001b[4m9\u001b[24m905 10/26/2023 sports   \n",
            "\u001b[90m 3\u001b[39m cduftondy  Celisse … 8/24/1995 cduf… OC            \u001b[4m9\u001b[24m\u001b[4m9\u001b[24m707 9/26/2021  sports   \n",
            "\u001b[90m 4\u001b[39m dbartalin… Desiree … 8/23/1993 dbar… AF            \u001b[4m9\u001b[24m\u001b[4m9\u001b[24m618 5/30/2022  music    \n",
            "\u001b[90m 5\u001b[39m grivardmp  Gwen Riv… 9/12/1982 griv… OC            \u001b[4m9\u001b[24m\u001b[4m9\u001b[24m526 4/4/2020   music    \n",
            "\u001b[90m 6\u001b[39m mraggitt9g Morgan R… 11/16/19… mrag… \u001b[31mNA\u001b[39m            \u001b[4m9\u001b[24m\u001b[4m9\u001b[24m508 11/12/2021 music    \n",
            "\u001b[90m 7\u001b[39m wbenese7   Wain Ben… 3/9/1998  wben… \u001b[31mNA\u001b[39m            \u001b[4m9\u001b[24m\u001b[4m9\u001b[24m400 10/1/2021  travel   \n",
            "\u001b[90m 8\u001b[39m kmorriceht Kitti Mo… 6/3/1995  kmor… SA            \u001b[4m9\u001b[24m\u001b[4m8\u001b[24m936 3/24/2021  sports   \n",
            "\u001b[90m 9\u001b[39m smacdonne… Shoshann… 9/12/2002 smac… AS            \u001b[4m9\u001b[24m\u001b[4m8\u001b[24m760 7/20/2021  music    \n",
            "\u001b[90m10\u001b[39m dcossum34  Dwain Co… 9/9/1990  dcos… \u001b[31mNA\u001b[39m            \u001b[4m9\u001b[24m\u001b[4m8\u001b[24m743 6/7/2021   sports   \n"
          ]
        }
      ]
    },
    {
      "cell_type": "code",
      "source": [
        "#\n",
        "user_counts_by_continent <- social_media_data %>%\n",
        "  group_by(continent) %>%\n",
        "  summarize(user_count = n())\n",
        "print(user_counts_by_continent)"
      ],
      "metadata": {
        "id": "MjrZisnxlJUa",
        "outputId": "ec9ee5ea-52fb-4c79-da3c-9f6ce05b2beb",
        "colab": {
          "base_uri": "https://localhost:8080/"
        }
      },
      "execution_count": 11,
      "outputs": [
        {
          "output_type": "stream",
          "name": "stdout",
          "text": [
            "\u001b[90m# A tibble: 6 × 2\u001b[39m\n",
            "  continent user_count\n",
            "  \u001b[3m\u001b[90m<chr>\u001b[39m\u001b[23m          \u001b[3m\u001b[90m<int>\u001b[39m\u001b[23m\n",
            "\u001b[90m1\u001b[39m AF                70\n",
            "\u001b[90m2\u001b[39m AS               111\n",
            "\u001b[90m3\u001b[39m EU                77\n",
            "\u001b[90m4\u001b[39m OC                95\n",
            "\u001b[90m5\u001b[39m SA                69\n",
            "\u001b[90m6\u001b[39m \u001b[31mNA\u001b[39m               228\n"
          ]
        }
      ]
    }
  ]
}