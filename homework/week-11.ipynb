{
  "nbformat": 4,
  "nbformat_minor": 0,
  "metadata": {
    "colab": {
      "provenance": [],
      "include_colab_link": true
    },
    "kernelspec": {
      "name": "python3",
      "display_name": "Python 3"
    },
    "language_info": {
      "name": "python"
    }
  },
  "cells": [
    {
      "cell_type": "markdown",
      "metadata": {
        "id": "view-in-github",
        "colab_type": "text"
      },
      "source": [
        "<a href=\"https://colab.research.google.com/github/natepearsall/git-test/blob/main/homework/week-11.ipynb\" target=\"_parent\"><img src=\"https://colab.research.google.com/assets/colab-badge.svg\" alt=\"Open In Colab\"/></a>"
      ]
    },
    {
      "cell_type": "markdown",
      "source": [
        "# Homework - Error Handling & Recursion\n",
        "\n",
        "Complete the cells below. Pay close attention to all directions given.\n",
        "\n",
        "## Error Handling (3 pts)\n",
        "\n",
        "```\n",
        "def throw_me_an_error():\n",
        "  val1 = 14\n",
        "  val2 = 0\n",
        "  return val1 / val2\n",
        "\n",
        "throw_me_an_error()\n",
        "```\n",
        "\n",
        "The function above is designed to deliberately throw an error.\n",
        "\n",
        "Create a new version of the function but add `try` and `except` statements correctly. Your exception should print out the type of error this function created. There are a couple of different ways you could do this.\n"
      ],
      "metadata": {
        "id": "v14Xtd9oiTGF"
      }
    },
    {
      "cell_type": "code",
      "execution_count": 2,
      "metadata": {
        "id": "-dfq0Vo_iSi7",
        "outputId": "4a5f5eb1-472a-4a72-e022-b6ffbb3b1da3",
        "colab": {
          "base_uri": "https://localhost:8080/"
        }
      },
      "outputs": [
        {
          "output_type": "stream",
          "name": "stdout",
          "text": [
            "Error: division by zero\n"
          ]
        }
      ],
      "source": [
        "# answer goes here.\n",
        "def handle_error():\n",
        "    try:\n",
        "        val1 = 14\n",
        "        val2 = 0\n",
        "        return val1 / val2\n",
        "    except ZeroDivisionError as e:\n",
        "        print(f\"Error: {e}\")\n",
        "handle_error()\n"
      ]
    },
    {
      "cell_type": "markdown",
      "source": [
        "## Error Handling (4 pts)\n",
        "\n",
        "Extend the class below to include some error handling. Assume the remote resource is offline for a moment: How would you give a message to the user indicating what has gone wrong? (Hint: one way you can test this is by deliberately misspelling the URL for the remote resource.)\n",
        "\n",
        "Also, include error handling logic so that execution of the class method `guid()` always returns a line \"Your request has been completed\" along with the guid it created.\n",
        "\n",
        "```\n",
        "import requests\n",
        "import json\n",
        "import sys\n",
        "\n",
        "class Id:\n",
        "\n",
        "  def guid():\n",
        "    response = requests.get('https://ids.pods.uvarc.io/guid')\n",
        "    body = json.loads(response.text)\n",
        "    return body['id']\n",
        "\n",
        "Id.guid()\n",
        "```"
      ],
      "metadata": {
        "id": "gf9m78RWmWqC"
      }
    },
    {
      "cell_type": "code",
      "source": [
        "# answer goes here\n",
        "import requests\n",
        "import json\n",
        "import sys\n",
        "\n",
        "class Id:\n",
        "\n",
        "    def guid():\n",
        "        try:\n",
        "            response = requests.get('https://ids.pods.uvarc.io/guid')\n",
        "            response.raise_for_status()\n",
        "            body = json.loads(response.text)\n",
        "            return body['id']\n",
        "        except requests.RequestException as e:\n",
        "            print(f\"Error: {type(e).__name__} - {e}\")\n",
        "            return None\n",
        "        except json.JSONDecodeError as e:\n",
        "            print(f\"Error: {type(e).__name__} - {e}\")\n",
        "            return None\n",
        "        except KeyError as e:\n",
        "            print(f\"Error: {type(e).__name__} - 'id' key not found in response\")\n",
        "            return None\n",
        "        except Exception as e:\n",
        "            print(f\"Unexpected Error: {type(e).__name__} - {e}\")\n",
        "            return None\n",
        "        finally:\n",
        "            print(\"Your request has been completed\")\n",
        "\n",
        "result = Id.guid()\n",
        "\n",
        "if result is not None:\n",
        "    print(f\"Generated GUID: {result}\")\n",
        "else:\n",
        "    print(\"Failed to generate GUID.\")\n"
      ],
      "metadata": {
        "id": "hT5B-LokmUbU",
        "outputId": "a14a2bb7-f46b-4108-e594-7e971f38c9a0",
        "colab": {
          "base_uri": "https://localhost:8080/"
        }
      },
      "execution_count": 3,
      "outputs": [
        {
          "output_type": "stream",
          "name": "stdout",
          "text": [
            "Your request has been completed\n",
            "Generated GUID: 84e053d0-e3ac-4ba5-baf0-b02f3d55e22a\n"
          ]
        }
      ]
    },
    {
      "cell_type": "markdown",
      "source": [
        "## Recursive Functions (3 pts)\n",
        "\n",
        "In the cell below, explain line by line the logic of what is being calculated when the function is called with an input value of 2.\n",
        "\n",
        "```\n",
        "def squarer(n):\n",
        "  if n == 1:\n",
        "    return 2\n",
        "  else:\n",
        "    return squarer(n-1) ** 2 + n\n",
        "\n",
        "squarer(2)\n",
        "```"
      ],
      "metadata": {
        "id": "XCuNofSFomZ6"
      }
    },
    {
      "cell_type": "code",
      "source": [
        "# answer goes here. Add space as needed.\n",
        "\n",
        "Line 1. #The function squarer is called with the argument 2\n",
        "Line 2.# the function checks the base case if n is 1 which it is not\n",
        "Line 3.# the else block returns the function squarer(2-1) which equals squarer(1)\n",
        "Line 4.# pases byt the base chase of n ==1\n",
        "Line 5.# now evaluates 2 * 2 +2 which gives 6"
      ],
      "metadata": {
        "id": "oYiqS2cxxXm4",
        "outputId": "df1ea671-1644-42d5-e88f-d428a44f8d5b",
        "colab": {
          "base_uri": "https://localhost:8080/",
          "height": 143
        }
      },
      "execution_count": 4,
      "outputs": [
        {
          "output_type": "error",
          "ename": "SyntaxError",
          "evalue": "ignored",
          "traceback": [
            "\u001b[0;36m  File \u001b[0;32m\"<ipython-input-4-983bf80bbbfc>\"\u001b[0;36m, line \u001b[0;32m3\u001b[0m\n\u001b[0;31m    Line 1. #The function squarer is called with the argument 2\u001b[0m\n\u001b[0m         ^\u001b[0m\n\u001b[0;31mSyntaxError\u001b[0m\u001b[0;31m:\u001b[0m invalid syntax\n"
          ]
        }
      ]
    }
  ]
}