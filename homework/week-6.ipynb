{
  "nbformat": 4,
  "nbformat_minor": 0,
  "metadata": {
    "colab": {
      "provenance": [],
      "include_colab_link": true
    },
    "kernelspec": {
      "name": "python3",
      "display_name": "Python 3"
    },
    "language_info": {
      "name": "python"
    }
  },
  "cells": [
    {
      "cell_type": "markdown",
      "metadata": {
        "id": "view-in-github",
        "colab_type": "text"
      },
      "source": [
        "<a href=\"https://colab.research.google.com/github/natepearsall/git-test/blob/main/homework/week-6.ipynb\" target=\"_parent\"><img src=\"https://colab.research.google.com/assets/colab-badge.svg\" alt=\"Open In Colab\"/></a>"
      ]
    },
    {
      "cell_type": "markdown",
      "source": [
        "# Homework - Week 6\n",
        "\n",
        "Complete the following blocks as specified in the directions. Run each cell to return the desired output. Save your notebook back to your GitHub repository and submit the GitHub URL for your notebook for review."
      ],
      "metadata": {
        "id": "xJ6ZWHKXW4qY"
      }
    },
    {
      "cell_type": "markdown",
      "source": [
        "# Pandas\n",
        "\n",
        "## 1. Fetch and Load Data\n",
        "In class we created a DataFrame using the `read_csv` method. Go to https://catalog.data.gov/dataset/electric-vehicle-population-data and download the CSV format of the \"Electric Vehicle Population Data\" dataset. Then upload it to Google Colab.\n",
        "\n",
        "Load that data into a Pandas DataFrame and display the first 20 rows. Show your work."
      ],
      "metadata": {
        "id": "2xOjrZ-Rg28_"
      }
    },
    {
      "cell_type": "code",
      "source": [
        "# Set up pandas and populate the dataframe above using the raw data. Then continue to work with the dataframe in the questions below.\n",
        "import pandas as pd\n",
        "import seaborn as sns\n",
        "electric = sns.load_dataset('Electric.csv')"
      ],
      "metadata": {
        "id": "--XDmwVsbMC0"
      },
      "execution_count": null,
      "outputs": []
    },
    {
      "cell_type": "code",
      "source": [
        "from google.colab import drive\n",
        "drive.mount('/content/drive')"
      ],
      "metadata": {
        "id": "IXIHv3av66lH"
      },
      "execution_count": null,
      "outputs": []
    },
    {
      "cell_type": "code",
      "source": [
        "# Format a command that how many rows and columns are in this dataset.\n",
        "len(electric)\n",
        "electric.columns"
      ],
      "metadata": {
        "id": "BOEWyifRiA-W"
      },
      "execution_count": null,
      "outputs": []
    },
    {
      "cell_type": "code",
      "source": [
        "# Format a command that displays every other row of records 1000 through 1999, and the columns \"City\", \"State\", \"Model Year\", and \"Make\".\n",
        "electric.iloc[1000:2000:2, [\"City\",\"State\",\"Model Year\",\"Make\"]]"
      ],
      "metadata": {
        "id": "RxqOYSNXiJ5U"
      },
      "execution_count": null,
      "outputs": []
    },
    {
      "cell_type": "markdown",
      "source": [
        "# 2. Cleaning/Imputing Data\n",
        "\n",
        "In class we reviewed methods for removing duplicate rows and handling empty cell values. Download [this data set](https://github.com/nmagee/ds1002/blob/main/data/very-messy-data.csv) and upload into Google Colab.\n",
        "\n",
        "Create another Pandas DataFrame from that data and perform the following steps."
      ],
      "metadata": {
        "id": "ne7qgu7nVtiI"
      }
    },
    {
      "cell_type": "code",
      "source": [
        "# Set up pandas and populate the dataframe above using the raw data. Then continue to work with the dataframe in the questions below.\n",
        "import pandas as pd\n",
        "df = pd.read_csv('very-messy-data')"
      ],
      "metadata": {
        "id": "sDYMm0QpWKYO"
      },
      "execution_count": null,
      "outputs": []
    },
    {
      "cell_type": "code",
      "source": [
        "# Write a snippet of code that will display the number of duplicate rows exist in the DF.\n",
        "df.duplicates('species')"
      ],
      "metadata": {
        "id": "keh0p_RjWMDy"
      },
      "execution_count": null,
      "outputs": []
    },
    {
      "cell_type": "code",
      "source": [
        "# Next, remove all duplicate rows using Python.\n",
        "df.drop_duplicates('species')\n"
      ],
      "metadata": {
        "id": "lJqw97KwWraS"
      },
      "execution_count": null,
      "outputs": []
    },
    {
      "cell_type": "code",
      "source": [
        "# For the FOUR columns involving sepal and petal length and width, update all NaN\n",
        "# values with the column mean such that NO empty cells remain. This method\n",
        "# is called \"imputation\" because it fills in cells in a statistically less-impactful\n",
        "# way than if they were blank.\n",
        "df.sepal_length.mean()\n",
        "\n",
        "# Show how you would update those four columns in code\n",
        "\n",
        "\n",
        "# confused on this one. Do I need to assign a value first to the empty cells and then put the mean value in? If so, how would that work."
      ],
      "metadata": {
        "id": "yGbZ4Vy-W2pm"
      },
      "execution_count": null,
      "outputs": []
    },
    {
      "cell_type": "markdown",
      "source": [
        "# 3. Save to a New CSV\n",
        "\n",
        "Preserve your updated DF to a CSV file by using the method built into Pandas.\n",
        "Name the output file `very-clean-data.csv` and save it to GitHub in the same directory where you will save this homework. We will review both your Colab notebook and the cleaned data file."
      ],
      "metadata": {
        "id": "v1Y4RoeLXZnI"
      }
    },
    {
      "cell_type": "code",
      "source": [
        "df.to_csv('very-clean-data.csv')"
      ],
      "metadata": {
        "id": "9V-PiuTs_v6_"
      },
      "execution_count": null,
      "outputs": []
    }
  ]
}